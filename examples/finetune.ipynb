{
 "cells": [
  {
   "cell_type": "code",
   "execution_count": 1,
   "id": "3652e112-d916-48bf-a49d-20ecfa01ed52",
   "metadata": {
    "execution": {
     "iopub.execute_input": "2023-08-02T18:53:45.943220Z",
     "iopub.status.busy": "2023-08-02T18:53:45.943066Z",
     "iopub.status.idle": "2023-08-02T18:53:45.958636Z",
     "shell.execute_reply": "2023-08-02T18:53:45.958086Z",
     "shell.execute_reply.started": "2023-08-02T18:53:45.943203Z"
    },
    "tags": []
   },
   "outputs": [],
   "source": [
    "%load_ext autoreload\n",
    "%autoreload 2"
   ]
  },
  {
   "cell_type": "code",
   "execution_count": 2,
   "id": "9178d12e-1058-4a12-b7ad-3f003361775b",
   "metadata": {
    "execution": {
     "iopub.execute_input": "2023-08-02T18:53:45.959920Z",
     "iopub.status.busy": "2023-08-02T18:53:45.959726Z",
     "iopub.status.idle": "2023-08-02T18:53:45.969553Z",
     "shell.execute_reply": "2023-08-02T18:53:45.968957Z",
     "shell.execute_reply.started": "2023-08-02T18:53:45.959905Z"
    },
    "tags": []
   },
   "outputs": [],
   "source": [
    "# Install transformer and peft if you don't have it installed\n",
    "# ! pip install transformers==4.31.0\n",
    "# ! pip install peft\n",
    "# ! pip install accelerate\n",
    "# ! pip install bitsandbytes"
   ]
  },
  {
   "cell_type": "markdown",
   "id": "e5a3c3e2-0a1d-429d-94d2-3f81838a010c",
   "metadata": {},
   "source": [
    "This is a standalone notebook to train the NSQL model on a single GPU (e.g., A5000 with 24GB) with int8 and LoRA."
   ]
  },
  {
   "cell_type": "markdown",
   "id": "b77a70b6-a0ac-4f18-a0c8-354839d149ce",
   "metadata": {
    "execution": {
     "iopub.execute_input": "2023-08-02T17:16:32.100885Z",
     "iopub.status.busy": "2023-08-02T17:16:32.100451Z",
     "iopub.status.idle": "2023-08-02T17:16:32.111648Z",
     "shell.execute_reply": "2023-08-02T17:16:32.111052Z",
     "shell.execute_reply.started": "2023-08-02T17:16:32.100860Z"
    },
    "tags": []
   },
   "source": [
    "# Load the model"
   ]
  },
  {
   "cell_type": "code",
   "execution_count": 3,
   "id": "ed5d1984-7b44-43de-af56-30c7943140aa",
   "metadata": {
    "execution": {
     "iopub.execute_input": "2023-08-02T18:53:45.970661Z",
     "iopub.status.busy": "2023-08-02T18:53:45.970247Z",
     "iopub.status.idle": "2023-08-02T18:54:00.923449Z",
     "shell.execute_reply": "2023-08-02T18:54:00.922550Z",
     "shell.execute_reply.started": "2023-08-02T18:53:45.970639Z"
    },
    "tags": []
   },
   "outputs": [
    {
     "data": {
      "application/vnd.jupyter.widget-view+json": {
       "model_id": "7f03dc7e83504e48855b0765e613b840",
       "version_major": 2,
       "version_minor": 0
      },
      "text/plain": [
       "Loading checkpoint shards:   0%|          | 0/3 [00:00<?, ?it/s]"
      ]
     },
     "metadata": {},
     "output_type": "display_data"
    }
   ],
   "source": [
    "import torch\n",
    "from transformers import AutoTokenizer, AutoModelForCausalLM\n",
    "tokenizer = AutoTokenizer.from_pretrained(\"NumbersStation/nsql-llama-2-7B\")\n",
    "model = AutoModelForCausalLM.from_pretrained(\"NumbersStation/nsql-llama-2-7B\", load_in_8bit=True, torch_dtype=torch.bfloat16, device_map='auto')"
   ]
  },
  {
   "cell_type": "markdown",
   "id": "939db736-3d70-4f2b-807c-efc029fe8ab7",
   "metadata": {},
   "source": [
    "# Prepare the data\n",
    "\n",
    "We use NumbersStation/NSText2SQL dataset as an example here and feel free to customize the training data based on your need."
   ]
  },
  {
   "cell_type": "code",
   "execution_count": 4,
   "id": "5b38f8db-7910-4b9d-9061-53fd11ede153",
   "metadata": {
    "execution": {
     "iopub.execute_input": "2023-08-02T18:54:00.925893Z",
     "iopub.status.busy": "2023-08-02T18:54:00.925458Z",
     "iopub.status.idle": "2023-08-02T18:54:01.304796Z",
     "shell.execute_reply": "2023-08-02T18:54:01.303974Z",
     "shell.execute_reply.started": "2023-08-02T18:54:00.925868Z"
    },
    "tags": []
   },
   "outputs": [],
   "source": [
    "from datasets import load_dataset\n",
    "from torch.utils.data import Dataset\n",
    "import copy\n",
    "\n",
    "class NSText2SQLDataset(Dataset):\n",
    "    def __init__(self, size=None, max_seq_length=2048):\n",
    "        self.dataset = load_dataset(\"NumbersStation/NSText2SQL\",split=\"train\")\n",
    "        if size:\n",
    "            self.dataset = self.dataset.select(range(size))\n",
    "        self.max_seq_length = max_seq_length\n",
    "\n",
    "    def __len__(self):\n",
    "        return len(self.dataset)\n",
    "\n",
    "    def __getitem__(self, index):\n",
    "        instruction = torch.tensor(tokenizer.encode(self.dataset[index]['instruction']), dtype=torch.int64)\n",
    "        example = self.dataset[index]['instruction'] + self.dataset[index][\"output\"]\n",
    "        example = tokenizer.encode(example)\n",
    "        example.append(tokenizer.eos_token_id)\n",
    "        padding = self.max_seq_length - len(example)\n",
    "        example = torch.tensor(example, dtype=torch.int64)\n",
    "\n",
    "        if padding < 0:\n",
    "            example = example[:self.max_seq_length]\n",
    "        else:\n",
    "            example = torch.cat((example, torch.zeros(padding, dtype=torch.int64)))\n",
    "            \n",
    "        labels = copy.deepcopy(example)\n",
    "        labels[: len(instruction)] = -100\n",
    "        \n",
    "        return {\"input_ids\": example, \"labels\": labels}"
   ]
  },
  {
   "cell_type": "code",
   "execution_count": 5,
   "id": "d669cd4e-1b53-4810-aa5a-8194916b01c0",
   "metadata": {
    "execution": {
     "iopub.execute_input": "2023-08-02T18:54:01.306038Z",
     "iopub.status.busy": "2023-08-02T18:54:01.305660Z",
     "iopub.status.idle": "2023-08-02T18:54:02.139667Z",
     "shell.execute_reply": "2023-08-02T18:54:02.138975Z",
     "shell.execute_reply.started": "2023-08-02T18:54:01.306020Z"
    },
    "tags": []
   },
   "outputs": [
    {
     "name": "stderr",
     "output_type": "stream",
     "text": [
      "Found cached dataset json (/data/senwu/data/huggingface/datasets/NumbersStation___json/NumbersStation--NSText2SQL-2ee760d614b948c2/0.0.0/fe5dd6ea2639a6df622901539cb550cf8797e5a6b2dd7af1cf934bed8e233e6e)\n"
     ]
    }
   ],
   "source": [
    "dataset = NSText2SQLDataset(size=1000, max_seq_length=1024)"
   ]
  },
  {
   "cell_type": "markdown",
   "id": "78aa7f7a-1fb5-417e-bf92-e07f8c172a30",
   "metadata": {},
   "source": [
    "# Prepare PEFT for model training"
   ]
  },
  {
   "cell_type": "code",
   "execution_count": 6,
   "id": "1627483c-2739-4cc9-8d85-e7353b4c61b5",
   "metadata": {
    "execution": {
     "iopub.execute_input": "2023-08-02T18:54:02.140669Z",
     "iopub.status.busy": "2023-08-02T18:54:02.140437Z",
     "iopub.status.idle": "2023-08-02T18:54:02.247708Z",
     "shell.execute_reply": "2023-08-02T18:54:02.246888Z",
     "shell.execute_reply.started": "2023-08-02T18:54:02.140651Z"
    },
    "tags": []
   },
   "outputs": [],
   "source": [
    "from peft import (\n",
    "    get_peft_model,\n",
    "    LoraConfig,\n",
    "    TaskType,\n",
    "    prepare_model_for_int8_training,\n",
    ")\n",
    "\n",
    "\n",
    "model.train()\n",
    "\n",
    "model = prepare_model_for_int8_training(model)\n",
    "\n",
    "lora_config = LoraConfig(\n",
    "    task_type=TaskType.CAUSAL_LM,\n",
    "    inference_mode=False,\n",
    "    r=8,\n",
    "    lora_alpha=32,\n",
    "    lora_dropout=0.05,\n",
    "    target_modules = [\"q_proj\", \"v_proj\"]\n",
    ")\n",
    "\n",
    "model = get_peft_model(model, lora_config)"
   ]
  },
  {
   "cell_type": "markdown",
   "id": "b9a8b18d-a25a-4d12-ac00-0f720703f579",
   "metadata": {
    "execution": {
     "iopub.execute_input": "2023-08-02T17:50:38.809539Z",
     "iopub.status.busy": "2023-08-02T17:50:38.809187Z",
     "iopub.status.idle": "2023-08-02T17:50:38.836443Z",
     "shell.execute_reply": "2023-08-02T17:50:38.835678Z",
     "shell.execute_reply.started": "2023-08-02T17:50:38.809520Z"
    },
    "tags": []
   },
   "source": [
    "# Finetune the model with Huggingface trainer"
   ]
  },
  {
   "cell_type": "code",
   "execution_count": 7,
   "id": "997db2e9-9b2e-4169-9b18-695d403f70e4",
   "metadata": {
    "execution": {
     "iopub.execute_input": "2023-08-02T18:54:02.248740Z",
     "iopub.status.busy": "2023-08-02T18:54:02.248573Z",
     "iopub.status.idle": "2023-08-02T18:54:02.343702Z",
     "shell.execute_reply": "2023-08-02T18:54:02.342453Z",
     "shell.execute_reply.started": "2023-08-02T18:54:02.248724Z"
    },
    "tags": []
   },
   "outputs": [],
   "source": [
    "from transformers import default_data_collator, Trainer, TrainingArguments\n",
    "\n",
    "output_dir = \"training_run\"\n",
    "\n",
    "config = {\n",
    "    'lora_config': lora_config,\n",
    "    'learning_rate': 1e-4,\n",
    "    'num_train_epochs': 1,\n",
    "    'gradient_accumulation_steps': 2,\n",
    "    'gradient_checkpointing': False,\n",
    "}\n",
    "\n",
    "\n",
    "training_args = TrainingArguments(\n",
    "    output_dir=output_dir,\n",
    "    overwrite_output_dir=True,\n",
    "    bf16=True,\n",
    "    # logging strategies\n",
    "    logging_dir=f\"{output_dir}/logs\",\n",
    "    logging_strategy=\"steps\",\n",
    "    logging_steps=5,\n",
    "    optim=\"adamw_torch_fused\",\n",
    "    **{k:v for k,v in config.items() if k != 'lora_config'}\n",
    ")"
   ]
  },
  {
   "cell_type": "code",
   "execution_count": 8,
   "id": "007525f0-41ac-4de7-aba8-92e547931972",
   "metadata": {
    "execution": {
     "iopub.execute_input": "2023-08-02T18:54:02.345795Z",
     "iopub.status.busy": "2023-08-02T18:54:02.345528Z",
     "iopub.status.idle": "2023-08-02T19:10:17.427653Z",
     "shell.execute_reply": "2023-08-02T19:10:17.426835Z",
     "shell.execute_reply.started": "2023-08-02T18:54:02.345777Z"
    },
    "tags": []
   },
   "outputs": [
    {
     "name": "stderr",
     "output_type": "stream",
     "text": [
      "`use_cache=True` is incompatible with gradient checkpointing. Setting `use_cache=False`...\n",
      "/home/senwu/repos/nslabs/.venv/lib/python3.10/site-packages/bitsandbytes/autograd/_functions.py:322: UserWarning: MatMul8bitLt: inputs will be cast from torch.bfloat16 to float16 during quantization\n",
      "  warnings.warn(f\"MatMul8bitLt: inputs will be cast from {A.dtype} to float16 during quantization\")\n"
     ]
    },
    {
     "data": {
      "text/html": [
       "\n",
       "    <div>\n",
       "      \n",
       "      <progress value='62' max='62' style='width:300px; height:20px; vertical-align: middle;'></progress>\n",
       "      [62/62 15:58, Epoch 0/1]\n",
       "    </div>\n",
       "    <table border=\"1\" class=\"dataframe\">\n",
       "  <thead>\n",
       " <tr style=\"text-align: left;\">\n",
       "      <th>Step</th>\n",
       "      <th>Training Loss</th>\n",
       "    </tr>\n",
       "  </thead>\n",
       "  <tbody>\n",
       "    <tr>\n",
       "      <td>5</td>\n",
       "      <td>18.636100</td>\n",
       "    </tr>\n",
       "    <tr>\n",
       "      <td>10</td>\n",
       "      <td>13.724200</td>\n",
       "    </tr>\n",
       "    <tr>\n",
       "      <td>15</td>\n",
       "      <td>10.669200</td>\n",
       "    </tr>\n",
       "    <tr>\n",
       "      <td>20</td>\n",
       "      <td>8.244300</td>\n",
       "    </tr>\n",
       "    <tr>\n",
       "      <td>25</td>\n",
       "      <td>6.646400</td>\n",
       "    </tr>\n",
       "    <tr>\n",
       "      <td>30</td>\n",
       "      <td>5.631100</td>\n",
       "    </tr>\n",
       "    <tr>\n",
       "      <td>35</td>\n",
       "      <td>5.023000</td>\n",
       "    </tr>\n",
       "    <tr>\n",
       "      <td>40</td>\n",
       "      <td>4.750200</td>\n",
       "    </tr>\n",
       "    <tr>\n",
       "      <td>45</td>\n",
       "      <td>4.641000</td>\n",
       "    </tr>\n",
       "    <tr>\n",
       "      <td>50</td>\n",
       "      <td>4.547600</td>\n",
       "    </tr>\n",
       "    <tr>\n",
       "      <td>55</td>\n",
       "      <td>4.602900</td>\n",
       "    </tr>\n",
       "    <tr>\n",
       "      <td>60</td>\n",
       "      <td>4.554200</td>\n",
       "    </tr>\n",
       "  </tbody>\n",
       "</table><p>"
      ],
      "text/plain": [
       "<IPython.core.display.HTML object>"
      ]
     },
     "metadata": {},
     "output_type": "display_data"
    },
    {
     "data": {
      "text/plain": [
       "TrainOutput(global_step=62, training_loss=7.540836887974893, metrics={'train_runtime': 974.9212, 'train_samples_per_second': 1.026, 'train_steps_per_second': 0.064, 'total_flos': 4.029631866863616e+16, 'train_loss': 7.540836887974893, 'epoch': 0.99})"
      ]
     },
     "execution_count": 8,
     "metadata": {},
     "output_type": "execute_result"
    }
   ],
   "source": [
    "trainer = Trainer(\n",
    "    model=model,\n",
    "    args=training_args,\n",
    "    train_dataset=dataset,\n",
    "    data_collator=default_data_collator,\n",
    ")\n",
    "\n",
    "# Start training\n",
    "trainer.train()"
   ]
  },
  {
   "cell_type": "markdown",
   "id": "680eb420-2c91-407c-b19c-89ea0391b591",
   "metadata": {},
   "source": [
    "# Save model checkpoint"
   ]
  },
  {
   "cell_type": "code",
   "execution_count": 9,
   "id": "fc1fb82e-b158-40d7-92bf-d63446dc12ae",
   "metadata": {
    "execution": {
     "iopub.execute_input": "2023-08-02T19:10:17.428876Z",
     "iopub.status.busy": "2023-08-02T19:10:17.428639Z",
     "iopub.status.idle": "2023-08-02T19:10:17.517489Z",
     "shell.execute_reply": "2023-08-02T19:10:17.516384Z",
     "shell.execute_reply.started": "2023-08-02T19:10:17.428853Z"
    },
    "tags": []
   },
   "outputs": [],
   "source": [
    "model.save_pretrained(output_dir)"
   ]
  },
  {
   "cell_type": "markdown",
   "id": "1eaeb1d5-1b49-4873-a205-b3ba94af4214",
   "metadata": {},
   "source": [
    "# Evaluate the finetuned model"
   ]
  },
  {
   "cell_type": "code",
   "execution_count": 10,
   "id": "75e98d82-07de-48fa-8c40-fb59e7805b08",
   "metadata": {
    "execution": {
     "iopub.execute_input": "2023-08-02T19:10:17.519168Z",
     "iopub.status.busy": "2023-08-02T19:10:17.518565Z",
     "iopub.status.idle": "2023-08-02T19:10:17.571432Z",
     "shell.execute_reply": "2023-08-02T19:10:17.570576Z",
     "shell.execute_reply.started": "2023-08-02T19:10:17.519143Z"
    },
    "tags": []
   },
   "outputs": [
    {
     "data": {
      "text/plain": [
       "PeftModelForCausalLM(\n",
       "  (base_model): LoraModel(\n",
       "    (model): LlamaForCausalLM(\n",
       "      (model): LlamaModel(\n",
       "        (embed_tokens): Embedding(32000, 4096, padding_idx=2)\n",
       "        (layers): ModuleList(\n",
       "          (0-31): 32 x LlamaDecoderLayer(\n",
       "            (self_attn): LlamaAttention(\n",
       "              (q_proj): Linear8bitLt(\n",
       "                in_features=4096, out_features=4096, bias=False\n",
       "                (lora_dropout): Dropout(p=0.05, inplace=False)\n",
       "                (lora_A): Linear(in_features=4096, out_features=8, bias=False)\n",
       "                (lora_B): Linear(in_features=8, out_features=4096, bias=False)\n",
       "              )\n",
       "              (k_proj): Linear8bitLt(in_features=4096, out_features=4096, bias=False)\n",
       "              (v_proj): Linear8bitLt(\n",
       "                in_features=4096, out_features=4096, bias=False\n",
       "                (lora_dropout): Dropout(p=0.05, inplace=False)\n",
       "                (lora_A): Linear(in_features=4096, out_features=8, bias=False)\n",
       "                (lora_B): Linear(in_features=8, out_features=4096, bias=False)\n",
       "              )\n",
       "              (o_proj): Linear8bitLt(in_features=4096, out_features=4096, bias=False)\n",
       "              (rotary_emb): LlamaRotaryEmbedding()\n",
       "            )\n",
       "            (mlp): LlamaMLP(\n",
       "              (gate_proj): Linear8bitLt(in_features=4096, out_features=11008, bias=False)\n",
       "              (up_proj): Linear8bitLt(in_features=4096, out_features=11008, bias=False)\n",
       "              (down_proj): Linear8bitLt(in_features=11008, out_features=4096, bias=False)\n",
       "              (act_fn): SiLUActivation()\n",
       "            )\n",
       "            (input_layernorm): LlamaRMSNorm()\n",
       "            (post_attention_layernorm): LlamaRMSNorm()\n",
       "          )\n",
       "        )\n",
       "        (norm): LlamaRMSNorm()\n",
       "      )\n",
       "      (lm_head): CastOutputToFloat(\n",
       "        (0): Linear(in_features=4096, out_features=32000, bias=False)\n",
       "      )\n",
       "    )\n",
       "  )\n",
       ")"
      ]
     },
     "execution_count": 10,
     "metadata": {},
     "output_type": "execute_result"
    }
   ],
   "source": [
    "model.eval()"
   ]
  },
  {
   "cell_type": "code",
   "execution_count": 11,
   "id": "fad30645-9472-4d29-94f8-94e20fdde79a",
   "metadata": {
    "execution": {
     "iopub.execute_input": "2023-08-02T19:10:17.572815Z",
     "iopub.status.busy": "2023-08-02T19:10:17.572510Z",
     "iopub.status.idle": "2023-08-02T19:10:18.876777Z",
     "shell.execute_reply": "2023-08-02T19:10:18.875775Z",
     "shell.execute_reply.started": "2023-08-02T19:10:17.572791Z"
    },
    "tags": []
   },
   "outputs": [
    {
     "name": "stdout",
     "output_type": "stream",
     "text": [
      "CREATE TABLE stadium (\n",
      "    stadium_id number,\n",
      "    location text,\n",
      "    name text,\n",
      "    capacity number,\n",
      ")\n",
      "\n",
      "-- Using valid SQLite, answer the following questions for the tables provided above.\n",
      "\n",
      "-- how many stadiums in total?\n",
      "\n",
      "SELECT COUNT(*) FROM stadium\n"
     ]
    }
   ],
   "source": [
    "text = \"\"\"CREATE TABLE stadium (\n",
    "    stadium_id number,\n",
    "    location text,\n",
    "    name text,\n",
    "    capacity number,\n",
    ")\n",
    "\n",
    "-- Using valid SQLite, answer the following questions for the tables provided above.\n",
    "\n",
    "-- how many stadiums in total?\n",
    "\n",
    "SELECT\"\"\"\n",
    "\n",
    "model_input = tokenizer(text, return_tensors=\"pt\").to(\"cuda\")\n",
    "\n",
    "generated_ids = model.generate(**model_input, max_new_tokens=100)\n",
    "print(tokenizer.decode(generated_ids[0], skip_special_tokens=True))"
   ]
  },
  {
   "cell_type": "code",
   "execution_count": null,
   "id": "532632db-3579-48dd-931b-b6aa4669ce87",
   "metadata": {},
   "outputs": [],
   "source": []
  }
 ],
 "metadata": {
  "kernelspec": {
   "display_name": "Python 3 (ipykernel)",
   "language": "python",
   "name": "python3"
  },
  "language_info": {
   "codemirror_mode": {
    "name": "ipython",
    "version": 3
   },
   "file_extension": ".py",
   "mimetype": "text/x-python",
   "name": "python",
   "nbconvert_exporter": "python",
   "pygments_lexer": "ipython3",
   "version": "3.10.8"
  }
 },
 "nbformat": 4,
 "nbformat_minor": 5
}
