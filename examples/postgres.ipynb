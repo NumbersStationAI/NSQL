{
 "cells": [
  {
   "cell_type": "code",
   "execution_count": null,
   "metadata": {},
   "outputs": [],
   "source": [
    "%load_ext autoreload\n",
    "%autoreload 2"
   ]
  },
  {
   "attachments": {},
   "cell_type": "markdown",
   "metadata": {},
   "source": [
    "## DB Setup\n",
    "\n",
    "We assume you already have a postgres database ready."
   ]
  },
  {
   "cell_type": "code",
   "execution_count": null,
   "metadata": {},
   "outputs": [],
   "source": [
    "DATABASE = \"database\"\n",
    "USER = \"postgres\"\n",
    "PASSWORD = \"password\"\n",
    "HOST = \"localhost\"\n",
    "PORT = 5432\n",
    "TABLES = []  # list of tables to load or [] to load all tables"
   ]
  },
  {
   "cell_type": "code",
   "execution_count": null,
   "metadata": {},
   "outputs": [],
   "source": [
    "from db_connectors import PostgresConnector\n",
    "from prompt_formatters import RajkumarFormatter\n",
    "\n",
    "# Get the connector and formatter\n",
    "postgres_connector = PostgresConnector(\n",
    "    user=USER, password=PASSWORD, dbname=DATABASE, host=HOST, port=PORT\n",
    ")\n",
    "postgres_connector.connect()\n",
    "if len(TABLES) <= 0:\n",
    "    TABLES.extend(postgres_connector.get_tables())\n",
    "\n",
    "print(f\"Loading tables: {TABLES}\")\n",
    "\n",
    "db_schema = [postgres_connector.get_schema(table) for table in TABLES]\n",
    "formatter = RajkumarFormatter(db_schema)"
   ]
  },
  {
   "attachments": {},
   "cell_type": "markdown",
   "metadata": {},
   "source": [
    "## Model Setup\n",
    "\n",
    "In a separate screen or window, first install [Manifest](https://github.com/HazyResearch/manifest)\n",
    "```bash\n",
    "pip install manifest-ml\\[all\\]\n",
    "```\n",
    "\n",
    "Then run\n",
    "```bash\n",
    "python3 -m manifest.api.app \\\n",
    "    --model_type huggingface \\\n",
    "    --model_generation_type text-generation \\\n",
    "    --model_name_or_path NumbersStation/nsql-350M \\\n",
    "    --device 0\n",
    "```\n",
    "\n",
    "If successful, you will see an output like\n",
    "```bash\n",
    "* Running on http://127.0.0.1:5000\n",
    "```"
   ]
  },
  {
   "cell_type": "code",
   "execution_count": null,
   "metadata": {},
   "outputs": [],
   "source": [
    "from manifest import Manifest\n",
    "\n",
    "manifest_client = Manifest(client_name=\"huggingface\", client_connection=\"http://127.0.0.1:5000\")\n",
    "\n",
    "def get_sql(instruction: str, max_tokens: int = 300) -> str:\n",
    "    prompt = formatter.format_prompt(instruction)\n",
    "    res = manifest_client.run(prompt, max_tokens=max_tokens)\n",
    "    return formatter.format_model_output(res)"
   ]
  },
  {
   "cell_type": "code",
   "execution_count": null,
   "metadata": {},
   "outputs": [],
   "source": [
    "sql = get_sql(\"Number of rows in table?\")\n",
    "print(sql)"
   ]
  },
  {
   "cell_type": "code",
   "execution_count": null,
   "metadata": {},
   "outputs": [],
   "source": [
    "print(postgres_connector.run_sql_as_df(sql))"
   ]
  }
 ],
 "metadata": {
  "kernelspec": {
   "display_name": "dbt",
   "language": "python",
   "name": "python3"
  },
  "language_info": {
   "codemirror_mode": {
    "name": "ipython",
    "version": 3
   },
   "file_extension": ".py",
   "mimetype": "text/x-python",
   "name": "python",
   "nbconvert_exporter": "python",
   "pygments_lexer": "ipython3",
   "version": "3.10.0"
  },
  "orig_nbformat": 4
 },
 "nbformat": 4,
 "nbformat_minor": 2
}
