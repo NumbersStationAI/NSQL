{
 "cells": [
  {
   "cell_type": "code",
   "execution_count": 1,
   "metadata": {
    "execution": {
     "iopub.execute_input": "2023-07-26T17:54:03.363360Z",
     "iopub.status.busy": "2023-07-26T17:54:03.363013Z",
     "iopub.status.idle": "2023-07-26T17:54:03.384950Z",
     "shell.execute_reply": "2023-07-26T17:54:03.384339Z",
     "shell.execute_reply.started": "2023-07-26T17:54:03.363334Z"
    },
    "tags": []
   },
   "outputs": [],
   "source": [
    "%load_ext autoreload\n",
    "%autoreload 2"
   ]
  },
  {
   "cell_type": "code",
   "execution_count": 2,
   "metadata": {
    "execution": {
     "iopub.execute_input": "2023-07-26T17:54:03.554498Z",
     "iopub.status.busy": "2023-07-26T17:54:03.554003Z",
     "iopub.status.idle": "2023-07-26T17:54:03.565041Z",
     "shell.execute_reply": "2023-07-26T17:54:03.564332Z",
     "shell.execute_reply.started": "2023-07-26T17:54:03.554473Z"
    }
   },
   "outputs": [],
   "source": [
    "# Install transformer if you don't have it installed\n",
    "# ! pip install transformers"
   ]
  },
  {
   "cell_type": "markdown",
   "metadata": {},
   "source": [
    "This is a standalone notebook that can be imported into colab to run."
   ]
  },
  {
   "cell_type": "markdown",
   "metadata": {},
   "source": [
    "## Model Setup"
   ]
  },
  {
   "cell_type": "code",
   "execution_count": 3,
   "metadata": {
    "execution": {
     "iopub.execute_input": "2023-07-26T17:54:04.109420Z",
     "iopub.status.busy": "2023-07-26T17:54:04.108996Z",
     "iopub.status.idle": "2023-07-26T17:54:04.120388Z",
     "shell.execute_reply": "2023-07-26T17:54:04.119708Z",
     "shell.execute_reply.started": "2023-07-26T17:54:04.109396Z"
    },
    "tags": []
   },
   "outputs": [],
   "source": [
    "model_name = \"NumbersStation/nsql-350M\" # <-- You can switch to other models like \"NumbersStation/nsql-6B\""
   ]
  },
  {
   "cell_type": "code",
   "execution_count": 4,
   "metadata": {
    "execution": {
     "iopub.execute_input": "2023-07-26T17:54:04.286491Z",
     "iopub.status.busy": "2023-07-26T17:54:04.286167Z",
     "iopub.status.idle": "2023-07-26T17:54:09.554296Z",
     "shell.execute_reply": "2023-07-26T17:54:09.553527Z",
     "shell.execute_reply.started": "2023-07-26T17:54:04.286468Z"
    },
    "tags": []
   },
   "outputs": [],
   "source": [
    "from transformers import AutoTokenizer, AutoModelForCausalLM\n",
    "tokenizer = AutoTokenizer.from_pretrained(model_name)\n",
    "model = AutoModelForCausalLM.from_pretrained(model_name)"
   ]
  },
  {
   "cell_type": "markdown",
   "metadata": {},
   "source": [
    "## Setup table schema\n",
    "\n",
    "This is a simple example of database table schema if you want to connect to your own PostgreSQL or SQlite please refer to [other notebooks](https://github.com/NumbersStationAI/NSQL/tree/main/examples)."
   ]
  },
  {
   "cell_type": "code",
   "execution_count": 5,
   "metadata": {
    "execution": {
     "iopub.execute_input": "2023-07-26T17:54:09.555794Z",
     "iopub.status.busy": "2023-07-26T17:54:09.555447Z",
     "iopub.status.idle": "2023-07-26T17:54:09.580203Z",
     "shell.execute_reply": "2023-07-26T17:54:09.579442Z",
     "shell.execute_reply.started": "2023-07-26T17:54:09.555775Z"
    },
    "tags": []
   },
   "outputs": [],
   "source": [
    "table_schema = \"\"\"CREATE TABLE stadium (\n",
    "    stadium_id number,\n",
    "    location text,\n",
    "    name text,\n",
    "    capacity number,\n",
    "    highest number,\n",
    "    lowest number,\n",
    "    average number\n",
    ")\n",
    "\n",
    "CREATE TABLE singer (\n",
    "    singer_id number,\n",
    "    name text,\n",
    "    country text,\n",
    "    song_name text,\n",
    "    song_release_year text,\n",
    "    age number,\n",
    "    is_male others\n",
    ")\n",
    "\n",
    "CREATE TABLE concert (\n",
    "    concert_id number,\n",
    "    concert_name text,\n",
    "    theme text,\n",
    "    stadium_id text,\n",
    "    year text\n",
    ")\n",
    "\n",
    "CREATE TABLE singer_in_concert (\n",
    "    concert_id number,\n",
    "    singer_id text\n",
    ")\n",
    "\"\"\"\n",
    "\n",
    "question = \"What is the maximum, the average, and the minimum capacity of stadiums ?\"\n",
    "\n",
    "prompt = f\"\"\"{table_schema}\n",
    "\n",
    "-- Using valid SQLite, answer the following questions for the tables provided above.\n",
    "\n",
    "-- {question}\n",
    "\n",
    "SELECT\"\"\""
   ]
  },
  {
   "cell_type": "markdown",
   "metadata": {},
   "source": [
    "## Generate SQL"
   ]
  },
  {
   "cell_type": "code",
   "execution_count": 9,
   "metadata": {
    "execution": {
     "iopub.execute_input": "2023-07-26T17:55:04.586239Z",
     "iopub.status.busy": "2023-07-26T17:55:04.585800Z",
     "iopub.status.idle": "2023-07-26T17:55:07.043773Z",
     "shell.execute_reply": "2023-07-26T17:55:07.043013Z",
     "shell.execute_reply.started": "2023-07-26T17:55:04.586214Z"
    },
    "tags": []
   },
   "outputs": [
    {
     "name": "stdout",
     "output_type": "stream",
     "text": [
      "SELECT MAX(capacity), AVG(capacity), MIN(capacity) FROM stadium;\n"
     ]
    }
   ],
   "source": [
    "input_ids = tokenizer(prompt, return_tensors=\"pt\").input_ids\n",
    "generated_ids = model.generate(input_ids, max_length=500)\n",
    "output = tokenizer.decode(generated_ids[0], skip_special_tokens=True)\n",
    "output = 'SELECT' + output.split('SELECT')[-1]\n",
    "\n",
    "print(output)"
   ]
  },
  {
   "cell_type": "code",
   "execution_count": null,
   "metadata": {},
   "outputs": [],
   "source": []
  }
 ],
 "metadata": {
  "kernelspec": {
   "display_name": "Python 3 (ipykernel)",
   "language": "python",
   "name": "python3"
  },
  "language_info": {
   "codemirror_mode": {
    "name": "ipython",
    "version": 3
   },
   "file_extension": ".py",
   "mimetype": "text/x-python",
   "name": "python",
   "nbconvert_exporter": "python",
   "pygments_lexer": "ipython3",
   "version": "3.10.8"
  }
 },
 "nbformat": 4,
 "nbformat_minor": 4
}
